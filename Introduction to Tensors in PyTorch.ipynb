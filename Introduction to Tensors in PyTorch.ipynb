{
 "cells": [
  {
   "cell_type": "code",
   "execution_count": 1,
   "metadata": {
    "_cell_guid": "b1076dfc-b9ad-4769-8c92-a6c4dae69d19",
    "_uuid": "8f2839f25d086af736a60e9eeb907d3b93b6e0e5",
    "colab": {
     "base_uri": "https://localhost:8080/",
     "height": 34
    },
    "colab_type": "code",
    "executionInfo": {
     "elapsed": 2071,
     "status": "ok",
     "timestamp": 1543005911816,
     "user": {
      "displayName": "faizan shaikh",
      "photoUrl": "https://lh5.googleusercontent.com/-Z9W4mnIc_BA/AAAAAAAAAAI/AAAAAAAABAY/Pk-ja1unLWc/s64/photo.jpg",
      "userId": "07685339115898994855"
     },
     "user_tz": -330
    },
    "id": "MuWDelTSR-Pz",
    "outputId": "4cb90b9c-1cf7-4985-ce83-523bd36b021f"
   },
   "outputs": [
    {
     "name": "stdout",
     "output_type": "stream",
     "text": [
      "0.3.0.post4\n"
     ]
    }
   ],
   "source": [
    "# This Python 3 environment comes with many helpful analytics libraries installed\n",
    "# It is defined by the kaggle/python docker image: https://github.com/kaggle/docker-python\n",
    "# For example, here's several helpful packages to load in \n",
    "\n",
    "import numpy as np # linear algebra\n",
    "import pandas as pd # data processing, CSV file I/O (e.g. pd.read_csv)\n",
    "\n",
    "# Input data files are available in the \"../input/\" directory.\n",
    "# For example, running this (by clicking run or pressing Shift+Enter) will list the files in the input directory\n",
    "\n",
    "import os\n",
    "\n",
    "import torch\n",
    "print(torch.__version__)\n",
    "\n",
    "# Any results you write to the current directory are saved as output."
   ]
  },
  {
   "cell_type": "code",
   "execution_count": 25,
   "metadata": {
    "colab": {},
    "colab_type": "code",
    "id": "ERFQY8lqSW-l"
   },
   "outputs": [
    {
     "name": "stdout",
     "output_type": "stream",
     "text": [
      "Solving environment: done\n",
      "\n",
      "\n",
      "==> WARNING: A newer version of conda exists. <==\n",
      "  current version: 4.4.11\n",
      "  latest version: 4.5.11\n",
      "\n",
      "Please update conda by running\n",
      "\n",
      "    $ conda update -n base conda\n",
      "\n",
      "\n",
      "\n",
      "# All requested packages already installed.\n",
      "\n"
     ]
    }
   ],
   "source": [
    "# http://pytorch.org/\n",
    "from os.path import exists\n",
    "from wheel.pep425tags import get_abbr_impl, get_impl_ver, get_abi_tag\n",
    "platform = '{}{}-{}'.format(get_abbr_impl(), get_impl_ver(), get_abi_tag())\n",
    "cuda_output = !ldconfig -p|grep cudart.so|sed -e 's/.*\\.\\([0-9]*\\)\\.\\([0-9]*\\)$/cu\\1\\2/'\n",
    "accelerator = cuda_output[0] if exists('/dev/nvidia0') else 'cpu'\n",
    "! conda install pytorch torchvision -c pytorch\n",
    "\n",
    "# !pip install -q http://download.pytorch.org/whl/{accelerator}/torch-0.4.1-{platform}-linux_x86_64.whl torchvision\n",
    "import torch"
   ]
  },
  {
   "cell_type": "markdown",
   "metadata": {
    "_cell_guid": "79c7e3d0-c299-4dcb-8224-4455121ee9b0",
    "_uuid": "d629ff2d2480ee46fbb7e2d37f6b5fab8052498a",
    "colab_type": "text",
    "collapsed": true,
    "id": "Ky7uS3gmR-QN"
   },
   "source": [
    "# Introduction to Tensors and Ops in PyTorch\n",
    "\n",
    "Table of Contents:\n",
    "- Basics\n",
    "- Convolution Arithmetic\n",
    "\n"
   ]
  },
  {
   "cell_type": "markdown",
   "metadata": {
    "_uuid": "58b042165963ff3af343151388feba2649ded58d",
    "colab_type": "text",
    "id": "yT5Hu3l_R-QQ"
   },
   "source": [
    "The fundamental unit in PyTorch is a Tensor. "
   ]
  },
  {
   "cell_type": "code",
   "execution_count": 43,
   "metadata": {
    "_uuid": "b959a3956ba68ccb73ddb4540ac5bf16eb4bb6f9",
    "colab": {
     "base_uri": "https://localhost:8080/",
     "height": 104
    },
    "colab_type": "code",
    "executionInfo": {
     "elapsed": 11101,
     "status": "ok",
     "timestamp": 1543005920927,
     "user": {
      "displayName": "faizan shaikh",
      "photoUrl": "https://lh5.googleusercontent.com/-Z9W4mnIc_BA/AAAAAAAAAAI/AAAAAAAABAY/Pk-ja1unLWc/s64/photo.jpg",
      "userId": "07685339115898994855"
     },
     "user_tz": -330
    },
    "id": "zzQV-AA3R-QV",
    "outputId": "e656e227-9b51-4ead-cdbe-3ced4a381473"
   },
   "outputs": [
    {
     "name": "stdout",
     "output_type": "stream",
     "text": [
      "\n",
      " 0.6428  0.7201  0.2840\n",
      " 0.0313  0.4677  0.4223\n",
      " 0.4246  0.2157  0.8328\n",
      " 0.8905  0.3039  0.5638\n",
      " 0.7764  0.8109  0.3469\n",
      "[torch.FloatTensor of size 5x3]\n",
      " <class 'torch.FloatTensor'>\n"
     ]
    },
    {
     "data": {
      "text/plain": [
       "'0.3.0.post4'"
      ]
     },
     "execution_count": 43,
     "metadata": {},
     "output_type": "execute_result"
    }
   ],
   "source": [
    "x = torch.rand(5, 3)\n",
    "print(x, type(x))"
   ]
  },
  {
   "cell_type": "code",
   "execution_count": 40,
   "metadata": {
    "_uuid": "a6847dcd4ac19749f53d69511ee1ccdaff728921",
    "colab": {
     "base_uri": "https://localhost:8080/",
     "height": 104
    },
    "colab_type": "code",
    "executionInfo": {
     "elapsed": 11080,
     "status": "ok",
     "timestamp": 1543005920934,
     "user": {
      "displayName": "faizan shaikh",
      "photoUrl": "https://lh5.googleusercontent.com/-Z9W4mnIc_BA/AAAAAAAAAAI/AAAAAAAABAY/Pk-ja1unLWc/s64/photo.jpg",
      "userId": "07685339115898994855"
     },
     "user_tz": -330
    },
    "id": "3GO_rCm_R-Qi",
    "outputId": "19c1ed40-795a-4031-a57f-700fd54884df"
   },
   "outputs": [
    {
     "name": "stdout",
     "output_type": "stream",
     "text": [
      "\n",
      " 0  0  0\n",
      " 0  0  0\n",
      " 0  0  0\n",
      " 0  0  0\n",
      " 0  0  0\n",
      "[torch.FloatTensor of size 5x3]\n",
      " <class 'torch.FloatTensor'>\n"
     ]
    }
   ],
   "source": [
    "x = torch.zeros(5, 3)\n",
    "print(x, type(x))"
   ]
  },
  {
   "cell_type": "code",
   "execution_count": 28,
   "metadata": {
    "_uuid": "c63e3aae1a0648285b5c91b3c700b0f01eacc2c4",
    "colab": {
     "base_uri": "https://localhost:8080/",
     "height": 34
    },
    "colab_type": "code",
    "executionInfo": {
     "elapsed": 11037,
     "status": "ok",
     "timestamp": 1543005920940,
     "user": {
      "displayName": "faizan shaikh",
      "photoUrl": "https://lh5.googleusercontent.com/-Z9W4mnIc_BA/AAAAAAAAAAI/AAAAAAAABAY/Pk-ja1unLWc/s64/photo.jpg",
      "userId": "07685339115898994855"
     },
     "user_tz": -330
    },
    "id": "xkM_1igtR-Q1",
    "outputId": "f59a9f4b-5a88-4201-c83f-c427d72a4717"
   },
   "outputs": [
    {
     "data": {
      "text/plain": [
       "torch.Size([5, 3])"
      ]
     },
     "execution_count": 28,
     "metadata": {},
     "output_type": "execute_result"
    }
   ],
   "source": [
    "x.size()"
   ]
  },
  {
   "cell_type": "code",
   "execution_count": 29,
   "metadata": {
    "_uuid": "f61d1ed62994e48d756f5a4fa9908be235c7708b",
    "colab": {
     "base_uri": "https://localhost:8080/",
     "height": 104
    },
    "colab_type": "code",
    "executionInfo": {
     "elapsed": 11016,
     "status": "ok",
     "timestamp": 1543005920943,
     "user": {
      "displayName": "faizan shaikh",
      "photoUrl": "https://lh5.googleusercontent.com/-Z9W4mnIc_BA/AAAAAAAAAAI/AAAAAAAABAY/Pk-ja1unLWc/s64/photo.jpg",
      "userId": "07685339115898994855"
     },
     "user_tz": -330
    },
    "id": "1xiR6WKRR-RB",
    "outputId": "2e98e373-4d83-47b8-b1a8-39b132f637f2"
   },
   "outputs": [
    {
     "data": {
      "text/plain": [
       "\n",
       " 0.1330  0.4241  0.0304\n",
       " 0.2935  0.9090  0.3644\n",
       " 0.6394  0.6521  0.4100\n",
       " 0.4099  0.4805  0.7992\n",
       " 0.9938  0.3786  0.7293\n",
       "[torch.FloatTensor of size 5x3]"
      ]
     },
     "execution_count": 29,
     "metadata": {},
     "output_type": "execute_result"
    }
   ],
   "source": [
    "y = torch.rand(5, 3)\n",
    "y"
   ]
  },
  {
   "cell_type": "code",
   "execution_count": 30,
   "metadata": {
    "_uuid": "4700cba809024423440979b99d035f07d4f6797d",
    "colab": {
     "base_uri": "https://localhost:8080/",
     "height": 104
    },
    "colab_type": "code",
    "executionInfo": {
     "elapsed": 10985,
     "status": "ok",
     "timestamp": 1543005920944,
     "user": {
      "displayName": "faizan shaikh",
      "photoUrl": "https://lh5.googleusercontent.com/-Z9W4mnIc_BA/AAAAAAAAAAI/AAAAAAAABAY/Pk-ja1unLWc/s64/photo.jpg",
      "userId": "07685339115898994855"
     },
     "user_tz": -330
    },
    "id": "AKdCN2i6R-RP",
    "outputId": "97bf1feb-b56a-46d2-9c48-81344585ea95"
   },
   "outputs": [
    {
     "data": {
      "text/plain": [
       "\n",
       " 0.1330  0.4241  0.0304\n",
       " 0.2935  0.9090  0.3644\n",
       " 0.6394  0.6521  0.4100\n",
       " 0.4099  0.4805  0.7992\n",
       " 0.9938  0.3786  0.7293\n",
       "[torch.FloatTensor of size 5x3]"
      ]
     },
     "execution_count": 30,
     "metadata": {},
     "output_type": "execute_result"
    }
   ],
   "source": [
    "x + y"
   ]
  },
  {
   "cell_type": "code",
   "execution_count": 31,
   "metadata": {
    "_uuid": "dbfeaad93811ddc539d253e6639ce8e368ea4e51",
    "colab": {
     "base_uri": "https://localhost:8080/",
     "height": 104
    },
    "colab_type": "code",
    "executionInfo": {
     "elapsed": 10961,
     "status": "ok",
     "timestamp": 1543005920946,
     "user": {
      "displayName": "faizan shaikh",
      "photoUrl": "https://lh5.googleusercontent.com/-Z9W4mnIc_BA/AAAAAAAAAAI/AAAAAAAABAY/Pk-ja1unLWc/s64/photo.jpg",
      "userId": "07685339115898994855"
     },
     "user_tz": -330
    },
    "id": "dPa-VoqCR-Rg",
    "outputId": "bc3b9c73-e041-4696-dd2e-b9853d6471bd",
    "scrolled": true
   },
   "outputs": [
    {
     "data": {
      "text/plain": [
       "\n",
       " 0.1330  0.4241  0.0304\n",
       " 0.2935  0.9090  0.3644\n",
       " 0.6394  0.6521  0.4100\n",
       " 0.4099  0.4805  0.7992\n",
       " 0.9938  0.3786  0.7293\n",
       "[torch.FloatTensor of size 5x3]"
      ]
     },
     "execution_count": 31,
     "metadata": {},
     "output_type": "execute_result"
    }
   ],
   "source": [
    "torch.add(x, y)"
   ]
  },
  {
   "cell_type": "markdown",
   "metadata": {
    "_uuid": "72700ae46d62630d49613ae2b6e8ea75b5c07095",
    "colab_type": "text",
    "id": "DssrY4M-R-Ru"
   },
   "source": [
    "### Inplace operations\n",
    "Sometimes, we would like to operations to the existing variable without creating a new one. In such cases, the inplace operations' operator is super handy. For most of the functions, the inplace operator would exist and is usually available as operator followed by an underscore **(operator_)** . For example, **.add** -> **.add_** , **.mul** -> **.mul_** and etc."
   ]
  },
  {
   "cell_type": "code",
   "execution_count": 32,
   "metadata": {
    "_uuid": "00cabb4de44b0cb4d74a8a8597a2150e1320b5d9",
    "colab": {
     "base_uri": "https://localhost:8080/",
     "height": 104
    },
    "colab_type": "code",
    "executionInfo": {
     "elapsed": 10944,
     "status": "ok",
     "timestamp": 1543005920948,
     "user": {
      "displayName": "faizan shaikh",
      "photoUrl": "https://lh5.googleusercontent.com/-Z9W4mnIc_BA/AAAAAAAAAAI/AAAAAAAABAY/Pk-ja1unLWc/s64/photo.jpg",
      "userId": "07685339115898994855"
     },
     "user_tz": -330
    },
    "id": "xbU5-ckER-Rx",
    "outputId": "6bc63396-d8ba-4d96-abc2-ce0914bd57aa"
   },
   "outputs": [
    {
     "data": {
      "text/plain": [
       "\n",
       " 0.1330  0.4241  0.0304\n",
       " 0.2935  0.9090  0.3644\n",
       " 0.6394  0.6521  0.4100\n",
       " 0.4099  0.4805  0.7992\n",
       " 0.9938  0.3786  0.7293\n",
       "[torch.FloatTensor of size 5x3]"
      ]
     },
     "execution_count": 32,
     "metadata": {},
     "output_type": "execute_result"
    }
   ],
   "source": [
    "x.add_(y)"
   ]
  },
  {
   "cell_type": "code",
   "execution_count": 33,
   "metadata": {
    "_uuid": "4a7f4c4f7c354b42ba7561be35273907552070d6",
    "colab": {
     "base_uri": "https://localhost:8080/",
     "height": 104
    },
    "colab_type": "code",
    "executionInfo": {
     "elapsed": 10916,
     "status": "ok",
     "timestamp": 1543005920951,
     "user": {
      "displayName": "faizan shaikh",
      "photoUrl": "https://lh5.googleusercontent.com/-Z9W4mnIc_BA/AAAAAAAAAAI/AAAAAAAABAY/Pk-ja1unLWc/s64/photo.jpg",
      "userId": "07685339115898994855"
     },
     "user_tz": -330
    },
    "id": "YCYSoBDFR-R6",
    "outputId": "edfc1807-b8c0-4bed-8b44-8f408b640e82"
   },
   "outputs": [
    {
     "data": {
      "text/plain": [
       "\n",
       " 0.1330  0.4241  0.0304\n",
       " 0.2935  0.9090  0.3644\n",
       " 0.6394  0.6521  0.4100\n",
       " 0.4099  0.4805  0.7992\n",
       " 0.9938  0.3786  0.7293\n",
       "[torch.FloatTensor of size 5x3]"
      ]
     },
     "execution_count": 33,
     "metadata": {},
     "output_type": "execute_result"
    }
   ],
   "source": [
    "x"
   ]
  },
  {
   "cell_type": "markdown",
   "metadata": {
    "_uuid": "05b6ecd71326507ac5fe2e567121be2ef0e2b41f",
    "colab_type": "text",
    "id": "jtZhTF0XR-SD"
   },
   "source": [
    "There are 100+ operations that are possible using PyTorch tensors and a comprehensive list is available here. Do check it out - https://pytorch.org/docs/stable/torch.html"
   ]
  },
  {
   "cell_type": "markdown",
   "metadata": {
    "_uuid": "6337d7d0c62eed40d9a7fb2531a94f1776039132",
    "colab_type": "text",
    "id": "bFqwrzprR-SF"
   },
   "source": [
    "### Numpy Arrays <=> PyTorch Tensors\n",
    "It's a very common practice to convert numpy arrays into torch tensors and vice-versa and it's super simple do this operation. What's handy is that when this conversion is executed, a new memory allocation is avoided and both the variables share the same memory location, thus being memory efficient. Deep Copy (fresh copy) is also useful, whenever required."
   ]
  },
  {
   "cell_type": "code",
   "execution_count": 34,
   "metadata": {
    "_uuid": "9790b0be15af65945fef76a4f0a3f07833a37186",
    "colab": {
     "base_uri": "https://localhost:8080/",
     "height": 52
    },
    "colab_type": "code",
    "executionInfo": {
     "elapsed": 10883,
     "status": "ok",
     "timestamp": 1543005920953,
     "user": {
      "displayName": "faizan shaikh",
      "photoUrl": "https://lh5.googleusercontent.com/-Z9W4mnIc_BA/AAAAAAAAAAI/AAAAAAAABAY/Pk-ja1unLWc/s64/photo.jpg",
      "userId": "07685339115898994855"
     },
     "user_tz": -330
    },
    "id": "JYUL9FfvR-SH",
    "outputId": "dbdb0e99-eb07-4885-b8a0-411019223e6b",
    "scrolled": true
   },
   "outputs": [
    {
     "data": {
      "text/plain": [
       "array([[ 0.32361608,  0.17834695,  0.33969199],\n",
       "       [ 0.62370845,  0.43763426,  0.14500712]])"
      ]
     },
     "execution_count": 34,
     "metadata": {},
     "output_type": "execute_result"
    }
   ],
   "source": [
    "x = np.random.rand(2,3)\n",
    "x"
   ]
  },
  {
   "cell_type": "code",
   "execution_count": 35,
   "metadata": {
    "_uuid": "e946e6e8cd160c88fefdf4401e7baf20754f65f0",
    "colab": {
     "base_uri": "https://localhost:8080/",
     "height": 52
    },
    "colab_type": "code",
    "executionInfo": {
     "elapsed": 10863,
     "status": "ok",
     "timestamp": 1543005920956,
     "user": {
      "displayName": "faizan shaikh",
      "photoUrl": "https://lh5.googleusercontent.com/-Z9W4mnIc_BA/AAAAAAAAAAI/AAAAAAAABAY/Pk-ja1unLWc/s64/photo.jpg",
      "userId": "07685339115898994855"
     },
     "user_tz": -330
    },
    "id": "dKghKq1tR-SW",
    "outputId": "dc678aa6-085e-486f-c916-72154c6c96ff"
   },
   "outputs": [
    {
     "data": {
      "text/plain": [
       "\n",
       " 0.3236  0.1783  0.3397\n",
       " 0.6237  0.4376  0.1450\n",
       "[torch.DoubleTensor of size 2x3]"
      ]
     },
     "execution_count": 35,
     "metadata": {},
     "output_type": "execute_result"
    }
   ],
   "source": [
    "y = torch.from_numpy(x)\n",
    "y"
   ]
  },
  {
   "cell_type": "code",
   "execution_count": 36,
   "metadata": {
    "_uuid": "d81bec114e219be6f19703259a6525db59d4a48f",
    "colab": {
     "base_uri": "https://localhost:8080/",
     "height": 52
    },
    "colab_type": "code",
    "executionInfo": {
     "elapsed": 10835,
     "status": "ok",
     "timestamp": 1543005920958,
     "user": {
      "displayName": "faizan shaikh",
      "photoUrl": "https://lh5.googleusercontent.com/-Z9W4mnIc_BA/AAAAAAAAAAI/AAAAAAAABAY/Pk-ja1unLWc/s64/photo.jpg",
      "userId": "07685339115898994855"
     },
     "user_tz": -330
    },
    "id": "v3NNqPHOR-Se",
    "outputId": "8a71c2f6-5e00-495c-ce35-3efa8fbc4300",
    "scrolled": true
   },
   "outputs": [
    {
     "data": {
      "text/plain": [
       "array([[ 0.32361608,  0.17834695,  0.33969199],\n",
       "       [ 0.62370845,  0.43763426,  0.14500712]])"
      ]
     },
     "execution_count": 36,
     "metadata": {},
     "output_type": "execute_result"
    }
   ],
   "source": [
    "z = y.numpy()\n",
    "z"
   ]
  },
  {
   "cell_type": "markdown",
   "metadata": {
    "_uuid": "5df1c4b7a12d870e7724ec3f665adec95b1db913",
    "colab_type": "text",
    "id": "5FgAizq8R-S1"
   },
   "source": [
    "### Exercise"
   ]
  },
  {
   "cell_type": "code",
   "execution_count": 37,
   "metadata": {
    "_uuid": "27bf41e241f42d4b0692291236d3433c49d91472",
    "colab": {
     "base_uri": "https://localhost:8080/",
     "height": 0
    },
    "colab_type": "code",
    "executionInfo": {
     "elapsed": 10814,
     "status": "ok",
     "timestamp": 1543005920961,
     "user": {
      "displayName": "faizan shaikh",
      "photoUrl": "https://lh5.googleusercontent.com/-Z9W4mnIc_BA/AAAAAAAAAAI/AAAAAAAABAY/Pk-ja1unLWc/s64/photo.jpg",
      "userId": "07685339115898994855"
     },
     "user_tz": -330
    },
    "id": "qpuFEmInR-S5",
    "outputId": "d87f1ed4-e3d7-4080-81dc-106d0692d434"
   },
   "outputs": [
    {
     "data": {
      "text/plain": [
       "\n",
       " 1.3236  1.1783  1.3397\n",
       " 1.6237  1.4376  1.1450\n",
       "[torch.DoubleTensor of size 2x3]"
      ]
     },
     "execution_count": 37,
     "metadata": {},
     "output_type": "execute_result"
    }
   ],
   "source": [
    "y.add_(1)"
   ]
  },
  {
   "cell_type": "code",
   "execution_count": 38,
   "metadata": {
    "_uuid": "7b8dda25ab6a157d561d360a78f8727ff5c11e61",
    "colab": {
     "base_uri": "https://localhost:8080/",
     "height": 0
    },
    "colab_type": "code",
    "executionInfo": {
     "elapsed": 10794,
     "status": "ok",
     "timestamp": 1543005920964,
     "user": {
      "displayName": "faizan shaikh",
      "photoUrl": "https://lh5.googleusercontent.com/-Z9W4mnIc_BA/AAAAAAAAAAI/AAAAAAAABAY/Pk-ja1unLWc/s64/photo.jpg",
      "userId": "07685339115898994855"
     },
     "user_tz": -330
    },
    "id": "4d9Ka-JzR-TF",
    "outputId": "d16dde22-3c77-4fa9-95cf-36f0838bae08"
   },
   "outputs": [
    {
     "data": {
      "text/plain": [
       "array([[ 1.32361608,  1.17834695,  1.33969199],\n",
       "       [ 1.62370845,  1.43763426,  1.14500712]])"
      ]
     },
     "execution_count": 38,
     "metadata": {},
     "output_type": "execute_result"
    }
   ],
   "source": [
    "x"
   ]
  },
  {
   "cell_type": "markdown",
   "metadata": {
    "_uuid": "1785b9ddefe80ce2d2b9787710eaaf68b28e524d",
    "colab_type": "text",
    "id": "a6JgJVaIR-TY"
   },
   "source": [
    "### Tensors on CPU and GPU\n",
    "Moving tensors from CPU and GPU is as trivial as **.cuda()** and **.cpu()**. Observe the types of the tensors once you do this. These small tidbits are important while debugging large PyTorch programs."
   ]
  },
  {
   "cell_type": "markdown",
   "metadata": {
    "_uuid": "2dd3cf027a7711150b6c54c43f19bc84a735fbfd",
    "colab_type": "text",
    "id": "OxYOs6GBR-Ti"
   },
   "source": [
    "First, check if GPU is available or not through code. Here are other handy functions to obtain some metadata."
   ]
  },
  {
   "cell_type": "code",
   "execution_count": 53,
   "metadata": {
    "_uuid": "a7ad246bb1325473e97daf087641dee27c2adcb1",
    "colab": {
     "base_uri": "https://localhost:8080/",
     "height": 34
    },
    "colab_type": "code",
    "executionInfo": {
     "elapsed": 10771,
     "status": "ok",
     "timestamp": 1543005920970,
     "user": {
      "displayName": "faizan shaikh",
      "photoUrl": "https://lh5.googleusercontent.com/-Z9W4mnIc_BA/AAAAAAAAAAI/AAAAAAAABAY/Pk-ja1unLWc/s64/photo.jpg",
      "userId": "07685339115898994855"
     },
     "user_tz": -330
    },
    "id": "1QTDqJHPR-Tj",
    "outputId": "3e874148-ec3f-4349-f8d2-c595c1775627"
   },
   "outputs": [
    {
     "data": {
      "text/plain": [
       "(False,)"
      ]
     },
     "execution_count": 53,
     "metadata": {},
     "output_type": "execute_result"
    }
   ],
   "source": [
    "torch.cuda.is_available(), #torch.cuda.current_device()"
   ]
  },
  {
   "cell_type": "code",
   "execution_count": 18,
   "metadata": {
    "_uuid": "d3d375b67e0954361a55d56382216a940aa9d7b0",
    "colab": {
     "base_uri": "https://localhost:8080/",
     "height": 34
    },
    "colab_type": "code",
    "executionInfo": {
     "elapsed": 10758,
     "status": "ok",
     "timestamp": 1543005920972,
     "user": {
      "displayName": "faizan shaikh",
      "photoUrl": "https://lh5.googleusercontent.com/-Z9W4mnIc_BA/AAAAAAAAAAI/AAAAAAAABAY/Pk-ja1unLWc/s64/photo.jpg",
      "userId": "07685339115898994855"
     },
     "user_tz": -330
    },
    "id": "nu3z5WMCR-Ts",
    "outputId": "e83616cb-dea0-41b7-d921-a322e39b04b9"
   },
   "outputs": [
    {
     "data": {
      "text/plain": [
       "('9.2.148', 1)"
      ]
     },
     "execution_count": 18,
     "metadata": {
      "tags": []
     },
     "output_type": "execute_result"
    }
   ],
   "source": [
    "torch.version.cuda, torch.cuda.device_count()"
   ]
  },
  {
   "cell_type": "code",
   "execution_count": 19,
   "metadata": {
    "_uuid": "a62be0194bba4eb18ae3622765bdc73f68f05ff5",
    "colab": {
     "base_uri": "https://localhost:8080/",
     "height": 52
    },
    "colab_type": "code",
    "executionInfo": {
     "elapsed": 10747,
     "status": "ok",
     "timestamp": 1543005920975,
     "user": {
      "displayName": "faizan shaikh",
      "photoUrl": "https://lh5.googleusercontent.com/-Z9W4mnIc_BA/AAAAAAAAAAI/AAAAAAAABAY/Pk-ja1unLWc/s64/photo.jpg",
      "userId": "07685339115898994855"
     },
     "user_tz": -330
    },
    "id": "Int8SFegR-T0",
    "outputId": "78f1d97e-dedc-4169-fff6-43ee7171e6ab"
   },
   "outputs": [
    {
     "data": {
      "text/plain": [
       "tensor([[0.6259, 0.5719, 0.7578],\n",
       "        [0.3048, 0.7027, 0.3277]])"
      ]
     },
     "execution_count": 19,
     "metadata": {
      "tags": []
     },
     "output_type": "execute_result"
    }
   ],
   "source": [
    "x = torch.rand(2,3)\n",
    "x"
   ]
  },
  {
   "cell_type": "code",
   "execution_count": 20,
   "metadata": {
    "_uuid": "75a7282d401283f7600be61e77c50d67487d60ee",
    "colab": {
     "base_uri": "https://localhost:8080/",
     "height": 34
    },
    "colab_type": "code",
    "executionInfo": {
     "elapsed": 10735,
     "status": "ok",
     "timestamp": 1543005920976,
     "user": {
      "displayName": "faizan shaikh",
      "photoUrl": "https://lh5.googleusercontent.com/-Z9W4mnIc_BA/AAAAAAAAAAI/AAAAAAAABAY/Pk-ja1unLWc/s64/photo.jpg",
      "userId": "07685339115898994855"
     },
     "user_tz": -330
    },
    "id": "sbx8MtPkR-T9",
    "outputId": "564f7338-91f4-418f-ed76-d797a897a234"
   },
   "outputs": [
    {
     "data": {
      "text/plain": [
       "torch.float32"
      ]
     },
     "execution_count": 20,
     "metadata": {
      "tags": []
     },
     "output_type": "execute_result"
    }
   ],
   "source": [
    "x.dtype"
   ]
  },
  {
   "cell_type": "code",
   "execution_count": 0,
   "metadata": {
    "_uuid": "dbbd8bed2301e75fcebd105bbc0ca84b909431a1",
    "colab": {},
    "colab_type": "code",
    "collapsed": true,
    "id": "QVHebVzTR-UB"
   },
   "outputs": [],
   "source": [
    "y = x.cuda()"
   ]
  },
  {
   "cell_type": "code",
   "execution_count": 22,
   "metadata": {
    "_uuid": "025853b54b2debc8f48fb77a825ab50636112a11",
    "colab": {
     "base_uri": "https://localhost:8080/",
     "height": 52
    },
    "colab_type": "code",
    "executionInfo": {
     "elapsed": 14062,
     "status": "ok",
     "timestamp": 1543005924330,
     "user": {
      "displayName": "faizan shaikh",
      "photoUrl": "https://lh5.googleusercontent.com/-Z9W4mnIc_BA/AAAAAAAAAAI/AAAAAAAABAY/Pk-ja1unLWc/s64/photo.jpg",
      "userId": "07685339115898994855"
     },
     "user_tz": -330
    },
    "id": "UvmbenRSR-UN",
    "outputId": "8b985a60-7d45-4fa9-c807-6319ddbc2604"
   },
   "outputs": [
    {
     "data": {
      "text/plain": [
       "tensor([[0.6259, 0.5719, 0.7578],\n",
       "        [0.3048, 0.7027, 0.3277]], device='cuda:0')"
      ]
     },
     "execution_count": 22,
     "metadata": {
      "tags": []
     },
     "output_type": "execute_result"
    }
   ],
   "source": [
    "y"
   ]
  },
  {
   "cell_type": "code",
   "execution_count": 23,
   "metadata": {
    "_uuid": "815e79affab237e9549e4659bd6bbd7adaa0d912",
    "colab": {
     "base_uri": "https://localhost:8080/",
     "height": 34
    },
    "colab_type": "code",
    "executionInfo": {
     "elapsed": 14054,
     "status": "ok",
     "timestamp": 1543005924333,
     "user": {
      "displayName": "faizan shaikh",
      "photoUrl": "https://lh5.googleusercontent.com/-Z9W4mnIc_BA/AAAAAAAAAAI/AAAAAAAABAY/Pk-ja1unLWc/s64/photo.jpg",
      "userId": "07685339115898994855"
     },
     "user_tz": -330
    },
    "id": "cQscnr-DR-UZ",
    "outputId": "48503135-4329-4455-d788-98597d899cc5"
   },
   "outputs": [
    {
     "data": {
      "text/plain": [
       "torch.float32"
      ]
     },
     "execution_count": 23,
     "metadata": {
      "tags": []
     },
     "output_type": "execute_result"
    }
   ],
   "source": [
    "x.dtype"
   ]
  },
  {
   "cell_type": "code",
   "execution_count": 24,
   "metadata": {
    "_uuid": "280e9db120a4a0d73f100bbe37f307b6c308d4de",
    "colab": {
     "base_uri": "https://localhost:8080/",
     "height": 52
    },
    "colab_type": "code",
    "executionInfo": {
     "elapsed": 14041,
     "status": "ok",
     "timestamp": 1543005924335,
     "user": {
      "displayName": "faizan shaikh",
      "photoUrl": "https://lh5.googleusercontent.com/-Z9W4mnIc_BA/AAAAAAAAAAI/AAAAAAAABAY/Pk-ja1unLWc/s64/photo.jpg",
      "userId": "07685339115898994855"
     },
     "user_tz": -330
    },
    "id": "u4rXKEnnR-Um",
    "outputId": "df4bce35-3619-47e4-b25a-2647dd35be20"
   },
   "outputs": [
    {
     "data": {
      "text/plain": [
       "tensor([[0.6259, 0.5719, 0.7578],\n",
       "        [0.3048, 0.7027, 0.3277]], device='cuda:0')"
      ]
     },
     "execution_count": 24,
     "metadata": {
      "tags": []
     },
     "output_type": "execute_result"
    }
   ],
   "source": [
    "x.to('cuda')"
   ]
  },
  {
   "cell_type": "code",
   "execution_count": 25,
   "metadata": {
    "_uuid": "4d8a859d242b2dff83200c174975422261cde662",
    "colab": {
     "base_uri": "https://localhost:8080/",
     "height": 52
    },
    "colab_type": "code",
    "executionInfo": {
     "elapsed": 14027,
     "status": "ok",
     "timestamp": 1543005924338,
     "user": {
      "displayName": "faizan shaikh",
      "photoUrl": "https://lh5.googleusercontent.com/-Z9W4mnIc_BA/AAAAAAAAAAI/AAAAAAAABAY/Pk-ja1unLWc/s64/photo.jpg",
      "userId": "07685339115898994855"
     },
     "user_tz": -330
    },
    "id": "85majGyaR-Ur",
    "outputId": "0e6b27d7-a6e8-4498-8d27-65913c494319"
   },
   "outputs": [
    {
     "data": {
      "text/plain": [
       "tensor([[0.6259, 0.5719, 0.7578],\n",
       "        [0.3048, 0.7027, 0.3277]], device='cuda:0')"
      ]
     },
     "execution_count": 25,
     "metadata": {
      "tags": []
     },
     "output_type": "execute_result"
    }
   ],
   "source": [
    "y"
   ]
  },
  {
   "cell_type": "code",
   "execution_count": 26,
   "metadata": {
    "_uuid": "542e8ef68e2b5f23b0c4ba64ea5bda2f70b6c589",
    "colab": {
     "base_uri": "https://localhost:8080/",
     "height": 52
    },
    "colab_type": "code",
    "executionInfo": {
     "elapsed": 14008,
     "status": "ok",
     "timestamp": 1543005924339,
     "user": {
      "displayName": "faizan shaikh",
      "photoUrl": "https://lh5.googleusercontent.com/-Z9W4mnIc_BA/AAAAAAAAAAI/AAAAAAAABAY/Pk-ja1unLWc/s64/photo.jpg",
      "userId": "07685339115898994855"
     },
     "user_tz": -330
    },
    "id": "2dmnUv7TR-U0",
    "outputId": "66976206-282a-450b-a015-fce2525d6430",
    "scrolled": true
   },
   "outputs": [
    {
     "data": {
      "text/plain": [
       "tensor([[0.6259, 0.5719, 0.7578],\n",
       "        [0.3048, 0.7027, 0.3277]])"
      ]
     },
     "execution_count": 26,
     "metadata": {
      "tags": []
     },
     "output_type": "execute_result"
    }
   ],
   "source": [
    "y.cpu()"
   ]
  },
  {
   "cell_type": "markdown",
   "metadata": {
    "_uuid": "0e970b32344c0beb6e643ade5b549b350e482fc3",
    "colab_type": "text",
    "id": "gh6QybzQR-U6"
   },
   "source": [
    "## Variables "
   ]
  },
  {
   "cell_type": "code",
   "execution_count": 45,
   "metadata": {
    "_uuid": "6acc8ce84e0674a84a3a2275b7cfda28c780a280",
    "colab": {},
    "colab_type": "code",
    "collapsed": true,
    "id": "ig-Qq0dDR-U7"
   },
   "outputs": [],
   "source": [
    "from torch.autograd import Variable"
   ]
  },
  {
   "cell_type": "code",
   "execution_count": 46,
   "metadata": {
    "_uuid": "63f955fb0c88e107b0b50c9cdd937c7cfe3f3bf2",
    "colab": {},
    "colab_type": "code",
    "collapsed": true,
    "id": "BUp2NefLR-U-"
   },
   "outputs": [],
   "source": [
    "x = Variable(torch.rand(2, 3), requires_grad=True)"
   ]
  },
  {
   "cell_type": "code",
   "execution_count": 47,
   "metadata": {
    "_uuid": "e4a6a9f04c5e83346e7fb6a5976427ea2754ebb6",
    "colab": {},
    "colab_type": "code",
    "collapsed": true,
    "id": "rzTp74xuR-VE"
   },
   "outputs": [],
   "source": [
    "x.grad"
   ]
  },
  {
   "cell_type": "markdown",
   "metadata": {
    "_uuid": "172cd08b0e482a9eeb664117a491f3d13435760b",
    "colab_type": "text",
    "id": "om0nMHzHR-VK"
   },
   "source": [
    "##  Differentiation"
   ]
  },
  {
   "cell_type": "code",
   "execution_count": 54,
   "metadata": {
    "_uuid": "3f72f3b833bd3e22ffb325e05fd4b32d73e69a39",
    "colab": {},
    "colab_type": "code",
    "collapsed": true,
    "id": "Ax6VahCaR-VM"
   },
   "outputs": [],
   "source": [
    "x = torch.Tensor([3])\n",
    "x = Variable(x, requires_grad=True)\n",
    "y = 2 * x ** 2 + 3"
   ]
  },
  {
   "cell_type": "code",
   "execution_count": 55,
   "metadata": {
    "_uuid": "1ed979b793e2dcf3a9f9b813e51063a30fc7a46a",
    "colab": {
     "base_uri": "https://localhost:8080/",
     "height": 34
    },
    "colab_type": "code",
    "executionInfo": {
     "elapsed": 13945,
     "status": "ok",
     "timestamp": 1543005924359,
     "user": {
      "displayName": "faizan shaikh",
      "photoUrl": "https://lh5.googleusercontent.com/-Z9W4mnIc_BA/AAAAAAAAAAI/AAAAAAAABAY/Pk-ja1unLWc/s64/photo.jpg",
      "userId": "07685339115898994855"
     },
     "user_tz": -330
    },
    "id": "BMiO4Yi-R-VR",
    "outputId": "5596fc3b-0354-440a-e8d3-01ec35fe335d"
   },
   "outputs": [
    {
     "data": {
      "text/plain": [
       "Variable containing:\n",
       " 21\n",
       "[torch.FloatTensor of size 1]"
      ]
     },
     "execution_count": 55,
     "metadata": {},
     "output_type": "execute_result"
    }
   ],
   "source": [
    "y"
   ]
  },
  {
   "cell_type": "code",
   "execution_count": 56,
   "metadata": {
    "_uuid": "840861ef78cb506fae89ed16964a3232af0f99cc",
    "colab": {},
    "colab_type": "code",
    "id": "DzyVXDAvR-VW"
   },
   "outputs": [],
   "source": [
    "y.backward(torch.Tensor([2]))"
   ]
  },
  {
   "cell_type": "code",
   "execution_count": 57,
   "metadata": {
    "_uuid": "4dfb26b1022aef5496423ab3fbb3bd38f6027a23",
    "colab": {
     "base_uri": "https://localhost:8080/",
     "height": 34
    },
    "colab_type": "code",
    "executionInfo": {
     "elapsed": 13911,
     "status": "ok",
     "timestamp": 1543005924365,
     "user": {
      "displayName": "faizan shaikh",
      "photoUrl": "https://lh5.googleusercontent.com/-Z9W4mnIc_BA/AAAAAAAAAAI/AAAAAAAABAY/Pk-ja1unLWc/s64/photo.jpg",
      "userId": "07685339115898994855"
     },
     "user_tz": -330
    },
    "id": "93a8OC9uR-Vd",
    "outputId": "66bcae26-ae97-4f64-fcfe-dee092c3a373"
   },
   "outputs": [
    {
     "data": {
      "text/plain": [
       "Variable containing:\n",
       " 24\n",
       "[torch.FloatTensor of size 1]"
      ]
     },
     "execution_count": 57,
     "metadata": {},
     "output_type": "execute_result"
    }
   ],
   "source": [
    "x.grad"
   ]
  },
  {
   "cell_type": "code",
   "execution_count": 0,
   "metadata": {
    "_uuid": "342e8723dee28f24178209c3cfae1ec9a8df6381",
    "colab": {},
    "colab_type": "code",
    "collapsed": true,
    "id": "0MTFoI74R-Vj"
   },
   "outputs": [],
   "source": []
  }
 ],
 "metadata": {
  "accelerator": "GPU",
  "colab": {
   "name": "Introduction to Tensors in PyTorch.ipynb",
   "provenance": [],
   "version": "0.3.2"
  },
  "kernelspec": {
   "display_name": "Python 3",
   "language": "python",
   "name": "python3"
  },
  "language_info": {
   "codemirror_mode": {
    "name": "ipython",
    "version": 3
   },
   "file_extension": ".py",
   "mimetype": "text/x-python",
   "name": "python",
   "nbconvert_exporter": "python",
   "pygments_lexer": "ipython3",
   "version": "3.6.1"
  }
 },
 "nbformat": 4,
 "nbformat_minor": 1
}
